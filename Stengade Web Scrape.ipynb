{
 "cells": [
  {
   "cell_type": "code",
   "execution_count": 1,
   "metadata": {},
   "outputs": [],
   "source": [
    "def stengade_scrape(baseUrl='http://stengade.dk'):\n",
    "    from bs4 import BeautifulSoup as Soup\n",
    "    import requests\n",
    "    from datetime import datetime\n",
    "    CONTENT = requests.get(url=baseUrl).text\n",
    "    soup = Soup(CONTENT, features='lxml')\n",
    "    return soup"
   ]
  },
  {
   "cell_type": "code",
   "execution_count": 2,
   "metadata": {},
   "outputs": [],
   "source": [
    "def scrape_material():\n",
    "    sten = stengade_scrape()\n",
    "    info = sten.findAll('div', {'class': 'eventlist-column-info'})\n",
    "    stengade = []\n",
    "    for x in info:\n",
    "        spec_concert = []\n",
    "        artist = x.find('h1', {'class': 'eventlist-title'}).get_text()\n",
    "        concertDate = x.find('time', {'class': 'event-date'}).get_text()\n",
    "        links = x.find('div', {'class':'eventlist-excerpt'})\n",
    "        linklist = links.findAll('a')\n",
    "        counter = 0\n",
    "        for y in linklist:\n",
    "            if counter == 0:\n",
    "                concertUrl = y.get('href')\n",
    "                counter = counter + 1\n",
    "            elif counter == 1: \n",
    "                ticketUrl = y.get('href')\n",
    "        spec_concert.append(artist)\n",
    "        spec_concert.append(concertUrl)\n",
    "        spec_concert.append(concertDate)\n",
    "        spec_concert.append(ticketUrl)\n",
    "        price = None\n",
    "        spec_concert.append(price)\n",
    "        stengade.append(spec_concert)\n",
    "    return stengade"
   ]
  },
  {
   "cell_type": "code",
   "execution_count": 3,
   "metadata": {},
   "outputs": [
    {
     "name": "stdout",
     "output_type": "stream",
     "text": [
      "[['CANCELLED // Fuzztival Presents: The Heavy Eyes [US] + Vestjysk Ørken', 'https://www.facebook.com/events/736542557390755/', 'Wednesday, October 5, 2022', 'https://tikkio.com/tickets/30905-fuzztival-presents-the-heavy-eyes-us-vestjysk-orken', None], ['A Night With Pharfar - Feat. Kaka + Runny Money + Ung Tjerkel', 'https://www.facebook.com/events/1214236765996469', 'Fri, Oct 7, 2022', 'https://tikkio.com/tickets/30770-pharfar', None], ['Timechild + Special Guests: Terminalist', 'https://www.facebook.com/events/5261999130542546', 'Sat, Oct 8, 2022', 'https://tikkio.com/tickets/31244-timechild-support-tba', None], ['Nordsind - Afskedskoncert! + Special Guests: ÊTRE', 'https://www.facebook.com/events/1222308765200054', 'Fri, Oct 14, 2022', 'https://tikkio.com/tickets/31365-nordsind-afskedskoncert-special-guests-etre', None], ['DM I BEATBOX 2022', 'https://www.facebook.com/events/2638738616259200', 'Sat, Oct 15, 2022', 'https://tikkio.com/tickets/31821-dm-i-beatbox-2022', None], ['Diablo Swing Orchestra [S] // Udsolgt', 'https://www.facebook.com/events/144225807898210/', 'Tuesday, October 18, 2022', 'https://bit.ly/3E9tB2g', None], ['40 Watt Sun [UK] + Support: TBA', 'https://www.facebook.com/events/8390256657667203', 'Thursday, October 20, 2022', 'https://tikkio.com/tickets/30898-40-watt-sun-uk-support-tba', None], ['Tau & the Drones of Praise [IR] + Support: Skifting', 'https://www.facebook.com/events/1557808568011474', 'Thursday, October 27, 2022', 'https://tikkio.com/tickets/31190-tau-the-drones-of-praise-ir', None], ['Afroween Bash', 'https://www.facebook.com/events/1341203433350487', 'Fri, Oct 28, 2022', 'https://tikkio.com/tickets/32023-afroween-bash', None], ['Major Parkinson [NO]', 'https://www.facebook.com/events/1074938250082834', 'Sat, Oct 29, 2022', 'https://tikkio.com/tickets/31245-major-parkinson-no', None], ['Black Marble [US] + Special Guest: John Moods [DE]', 'https://www.facebook.com/events/372991264906695', 'Tuesday, November 1, 2022', 'https://tikkio.com/tickets/31157-black-marble-us-support-tba', None], ['F L E M M I N G - Release Koncert + Support: Sheraz', 'https://www.facebook.com/events/621583472648258', 'Fri, Nov 4, 2022', 'https://bit.ly/3AmCtSc', None], ['Måneskjold [Den Sidste Flyvetur] // Free Entry', 'https://www.facebook.com/events/619259152907983', 'Sat, Nov 5, 2022', 'https://bit.ly/3AmCtSc', None], ['Frayle [US] + Shaam Larein [SE] + Special Guest: Kikimora', 'https://www.facebook.com/events/416250820080705', 'Thursday, November 10, 2022', 'https://bit.ly/38NyOSL', None], ['Actors [CA] + Special Guests: Bootblacks [US] + support: Hævner', 'https://www.facebook.com/events/713772316324956', 'Fri, Nov 11, 2022', 'https://tikkio.com/tickets/29996-actors-uk-special-guests-bootblacks-us', None], ['Siena Root [SE] + Special Guests: Children of the Sün [SE]', 'https://www.facebook.com/events/193766122813829/', 'Sat, Nov 12, 2022', 'https://bit.ly/3ADrEso', None], ['PVA [UK] + Support: TBA', 'https://www.facebook.com/events/407399934691522/', 'Thursday, November 17, 2022', 'https://tikkio.com/tickets/31188-pva-uk-support-tba', None], ['Daufødt [NO] + Support: Syl', 'https://www.facebook.com/events/1217153552356350', 'Fri, Nov 18, 2022', 'https://tikkio.com/tickets/30446-daufodt-no-support-tba', None], ['Belako [ES] + Special Guests: Bonad', 'https://www.facebook.com/events/809902436703359', 'Sat, Nov 19, 2022', 'https://tikkio.com/tickets/31971-belako-es', None], ['Rising Merch Faces Of Death Tour 2022 [Feat. Rivers OF Nihil - Fallujah- Allegaeon - Inferi - Harbinger] // Sold Out', 'https://www.facebook.com/events/3879749082035865', 'Wednesday, November 23, 2022', 'https://tikkio.com/tickets/31971-belako-es', None], ['Tankcsapda [HU]  // Few Tickets Left', 'https://www.facebook.com/events/812928285828948/', 'Fri, Nov 25, 2022', 'https://tikkio.com/tickets/13403-tankcsapda-hu', None], ['Jarboe [US] + Jozef Van Wissem [NL]', 'https://www.facebook.com/events/593431015469447', 'Fri, Dec 2, 2022', 'https://tikkio.com/tickets/30705-jarboe-us-jozef-van-wissem-nl', None], ['Fuzztival Presents: Colour Haze [DE] + Vestjysk Ørken', 'https://www.facebook.com/events/437707568261109', 'Thursday, December 8, 2022', 'https://tikkio.com/tickets/32995-fuzztival-presents-colour-haze-de-vestjysk-orken', None], ['The Luna Riot Ball Vol. 4. - Urarta - Indre Krig - Mouth Wound', 'https://www.facebook.com/events/839767164061254', 'Fri, Dec 9, 2022', 'https://tikkio.com/tickets/32890-the-luna-riot-ball-vol-4-urarta-indre-krig-mouth-wound', None], ['NEW DATE TBC // Atheist [US] + Suicidal Angels [GR] + Abysmal Dawn [US] + Critical Mess [DE] // Få billetter', 'https://www.facebook.com/events/870343593824440', 'Sat, Dec 24, 2022', 'https://bit.ly/3sCvQnS', None], ['Canceled // Jacob Lee [AU] + Support: TBA', 'https://www.facebook.com/events/596095047747550/', 'Saturday, December 31, 2022', 'https://bit.ly/3iIHokL', None], ['Wormrot [SG] + Support: TBA', 'https://www.facebook.com/events/470741548283388', 'Wednesday, February 8, 2023', 'https://tikkio.com/tickets/32434-wormrot-sg-support-tba', None], ['Spidergawd [NO] + support: Draken [NO]', 'https://www.facebook.com/events/907194816445568/', 'Sat, Mar 25, 2023', 'https://bit.ly/3eBMy0s', None], ['Cancelled // Orphaned Land [IL] + Special Guests: Dead Venus [CH] + Ring Of Gyges [IS]', 'https://www.facebook.com/events/1108276059688782', 'Fri, May 19, 2023', 'https://bit.ly/2PaTIRo', None], ['JAMBINAI [KR] + support: TBA', 'https://www.facebook.com/events/1097696770621794/', 'Thursday, May 25, 2023', 'https://tikkio.com/tickets/13268-jambinai-kr-support', None], ['Night Beats [US] + Support: The Preachers + Efterfest: Beat Mermaids // Sold Out', 'https://www.facebook.com/events/5583519435056509', 'Sat, Oct 1, 2022', 'https://bit.ly/3vUhP7y', None], ['Nørrebro Bas Klub #3', 'https://www.facebook.com/events/1582211402238993', 'Fri, Sep 30, 2022', 'https://tikkio.com/tickets/32534-norrebro-bas-klub', None], ['Mild Orange [NZ] + Special Guest: Haab // Few Tickets Left', 'https://www.facebook.com/events/231798515600238', 'Thursday, September 29, 2022', 'https://bit.ly/3ABq0qB', None], ['Kanonenfieber [DE] + Special Guests: Uburen [NO] + Molok // Few Tickets Left', 'https://www.facebook.com/events/353051120182788', 'Sunday, September 25, 2022', 'https://bit.ly/37dgJfw', None], ['Cory Wells [US] + Special Guest: Youth Fountain [CA]', 'https://www.facebook.com/events/547776386376293', 'Thursday, September 22, 2022', 'https://tikkio.com/tickets/22558-cory-wells-us-youth-fountain-ca', None], ['Stengade 50th birthday bash: Mantar [DE] + Suma [SE] + Dirt Forge + Gaia', 'https://www.facebook.com/events/987813058606265', 'Sat, Sep 17, 2022', 'https://tikkio.com/tickets/29525-stengade-50th-birthday-bash-mantar-de-suma-se-tba', None], ['Duma [KE] + Special Guest: Son of Seth', 'https://www.facebook.com/events/2251303418383639', 'Fri, Sep 16, 2022', 'https://tikkio.com/tickets/32084-duma-ke-special-guest-son-of-seth', None], ['CANCELLED // Sons of The Dragon x Tiger Moth x Ludwig og Simon', 'https://www.facebook.com/events/303912815282726/', 'Sat, Sep 10, 2022', 'https://bit.ly/3zKzseJ', None], ['Visions Of Atlantis [AT] + Xandria [DE] + Special Guest: Ye Banished Privateers [SE] // Few Tickets Left', 'https://www.facebook.com/events/556436689227555', 'Fri, Sep 9, 2022', 'https://tikkio.com/tickets/30316-visions-of-atlantis-at-xandria-de-special-guest-ye-banished-privateers-se', None], ['KOM VI LØBER + Support: Solvej', 'https://www.facebook.com/events/750571312803969', 'Thursday, September 8, 2022', 'https://tikkio.com/tickets/30539-kom-vi-lober-support-tba', None], ['HON Festival X Spillestedet Stengade', 'https://www.facebook.com/events/1188707818374090', 'Fri, Sep 2, 2022', 'https://tikkio.com/tickets/31322-hon-x-spillestedet-stengade-praesenterer-turpentine-valleybe-sagor-som-leder-mot-sluttetse-tba', None], ['Stay Ahead Tour feat. Ahead, Tanajah, Jaden Castro!', 'https://www.facebook.com/events/428725029257656', 'Wednesday, August 31, 2022', 'https://bit.ly/3LRQc6b', None], ['STRØM FESTIVAL - Clubmission', 'https://www.facebook.com/events/705893470704420/', 'Sat, Aug 27, 2022', 'https://bit.ly/3LRQc6b', None], ['Joe & The Shitboys [FO] + Support: Pleaser - Under Copenhagen Pride', 'https://www.facebook.com/events/5337390916305069', 'Wednesday, August 17, 2022', 'https://tikkio.com/tickets/30253-joe-the-shitboys-fo-support-tba', None], ['Witch [US] + Support: Lucid Grave // Få Billetter', 'https://www.facebook.com/events/472239314665390', 'Monday, August 8, 2022', 'https://tikkio.com/tickets/30284-witch-us-support-tba', None], ['Crypta [BR/NL] + Support: Mother Of All', 'https://www.facebook.com/events/568714251489043', 'Sunday, August 7, 2022', 'https://tikkio.com/tickets/30749-crypta-brnl-support-tba', None], ['SØNTH Sensommer Feels', 'https://www.facebook.com/events/602583050740741', 'Sat, Aug 6, 2022', 'https://tikkio.com/tickets/30257-sonth-sensommer-feels', None], ['Argentina Takeover: Blanco Teta [AR] + Fran De Pian [AR]', 'https://www.facebook.com/events/543112007328302', 'Thursday, August 4, 2022', 'https://tikkio.com/tickets/30016-argentina-takeover-blanco-teta-ar-fran-de-pian-ar', None], ['Voice Of Baceprot [ID] + Special Guests: Vulvatorious // Udsolgt', 'https://www.facebook.com/events/396720142500502', 'Tuesday, August 2, 2022', 'https://tikkio.com/tickets/30797-voice-of-baceprot-id-special-guests-vulvatorious', None], ['Wo Fat [US] + Support: Summon King Sykes', 'https://www.facebook.com/events/1691189477910490', 'Sunday, July 31, 2022', 'https://tikkio.com/tickets/30246-wo-fat-us-support-tba', None], ['AFlyst // Toundra [ES] + Support: Sagor Som Leder Mot Slutet [SE]', 'https://www.facebook.com/events/515577516624793', 'Monday, June 13, 2022', 'https://bit.ly/3CwPnfR', None], ['Doula  + Support: Sortblod + DJ: Sebastian Saxton', 'https://www.facebook.com/events/1972158706326138', 'Fri, Jun 10, 2022', 'https://bit.ly/3IZwWDe', None], ['COPENHELL & Stengade Presents: Jesterhead & the Swedish Soda Group // Udsolgt', 'https://www.facebook.com/events/340713828148752', 'Thursday, June 9, 2022', 'https://tikkio.com/tickets/30181-jesterhead-the-swedish-soda-group', None], ['Traveler [CA] + Thunderor [CA] + Steel Inferno', 'https://www.facebook.com/events/1417575321994688/', 'Tuesday, June 7, 2022', 'https://tikkio.com/tickets/26073-traveler-ca-toledo-steel-uk', None], ['Skeletal Remains [US] + Support: Nakkeknaekker', 'https://www.facebook.com/events/676772180300748', 'Sunday, June 5, 2022', 'https://bit.ly/3IHRxek', None], ['24/7 Diva Heaven [DE] + Foon + The OhNos [SE]', 'https://www.facebook.com/events/441088024471007', 'Sat, Jun 4, 2022', 'https://tikkio.com/tickets/28584-247-diva-heaven-de-foon', None], ['Yard Act [UK] + Support: Hollow // Udsolgt', 'https://www.facebook.com/events/272517647818599', 'Fri, Jun 3, 2022', 'https://bit.ly/3eJWqrW', None], ['Odd Loop - Single + Video releasekoncert [Support: Reveal Party + Kampfisk] // Udsolgt', 'https://www.facebook.com/events/705259747180155', 'Thursday, May 26, 2022', 'https://bit.ly/3E0MR2n', None], ['Algiers [US] + support: Quinquis', 'https://www.facebook.com/events/542782173281035/', 'Sunday, May 22, 2022', 'https://bit.ly/359ojD2', None], ['Machine Girl [US] + Special Guest: Glitchi // Få Billetter', 'https://www.facebook.com/events/1718027008395590/', 'Sat, May 21, 2022', 'https://tikkio.com/tickets/26066-vinterjazz-machine-girl-us-support-tba', None]]\n"
     ]
    }
   ],
   "source": [
    "if __name__ == '__main__':\n",
    "\n",
    "    print(scrape_material())"
   ]
  },
  {
   "cell_type": "code",
   "execution_count": null,
   "metadata": {},
   "outputs": [],
   "source": []
  }
 ],
 "metadata": {
  "kernelspec": {
   "display_name": "Python 3",
   "language": "python",
   "name": "python3"
  },
  "language_info": {
   "codemirror_mode": {
    "name": "ipython",
    "version": 3
   },
   "file_extension": ".py",
   "mimetype": "text/x-python",
   "name": "python",
   "nbconvert_exporter": "python",
   "pygments_lexer": "ipython3",
   "version": "3.7.6"
  }
 },
 "nbformat": 4,
 "nbformat_minor": 4
}
