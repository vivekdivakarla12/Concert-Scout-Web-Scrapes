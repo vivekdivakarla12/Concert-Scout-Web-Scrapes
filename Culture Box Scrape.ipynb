{
 "cells": [
  {
   "cell_type": "code",
   "execution_count": 1,
   "metadata": {},
   "outputs": [],
   "source": [
    "##Import BeautifulSoup for Web Scraping\n",
    "\n",
    "from bs4 import BeautifulSoup as Soup\n",
    "import requests\n",
    "from datetime import datetime"
   ]
  },
  {
   "cell_type": "code",
   "execution_count": 2,
   "metadata": {},
   "outputs": [],
   "source": [
    "def culture_box_scrape(baseUrl='https://culture-box.com/'):\n",
    "    CONTENT = requests.get(url=baseUrl).text\n",
    "    soup = Soup(CONTENT, features='lxml')\n",
    "    return soup"
   ]
  },
  {
   "cell_type": "code",
   "execution_count": 3,
   "metadata": {},
   "outputs": [],
   "source": [
    "testing = culture_box_scrape()"
   ]
  },
  {
   "cell_type": "code",
   "execution_count": 4,
   "metadata": {},
   "outputs": [],
   "source": [
    "links = []\n",
    "artists = []\n",
    "datelist = []\n",
    "for x in testing.find_all('a', {'class': 'post-block__button button button--inverted'}):\n",
    "    links.append(x.get('href'))\n",
    "for x in testing.find_all('div',{'class': 'post-block__content text-formatting'}):\n",
    "    for a in x.find_all('a'):\n",
    "        artists.append(a.get_text())\n",
    "b = testing.findAll(\"h2\", {'class': 'post-block__title structural__content__title'})\n",
    "for x in b:\n",
    "    datelist.append(x.get_text().strip())"
   ]
  },
  {
   "cell_type": "code",
   "execution_count": 5,
   "metadata": {},
   "outputs": [
    {
     "data": {
      "text/plain": [
       "[['https://culture-box.com/event/fri-7-october-2022/', 'FRI 7 OCTOBER 2022'],\n",
       " ['https://culture-box.com/event/sat-8-october-2022/', 'SAT 8 OCTOBER 2022'],\n",
       " ['https://culture-box.com/event/fri-14-october-2022/', 'FRI 14 OCTOBER 2022'],\n",
       " ['https://culture-box.com/event/sat-15-october-2022/', 'SAT 15 OCTOBER 2022'],\n",
       " ['https://culture-box.com/event/fri-21-october-2022/', 'FRI 21 OCTOBER 2022'],\n",
       " ['https://culture-box.com/event/sat-22-october-2022/', 'SAT 22 OCTOBER 2022'],\n",
       " ['https://culture-box.com/event/fri-28-october/', 'FRI 28 OCTOBER'],\n",
       " ['https://culture-box.com/event/sat-29-october-2022/', 'SAT 29 OCTOBER 2022'],\n",
       " ['https://culture-box.com/event/fri-4-november-2022/', 'FRI 4 NOVEMBER 2022'],\n",
       " ['https://culture-box.com/event/sat-5-november-2022/', 'SAT 5 NOVEMBER 2022'],\n",
       " ['https://culture-box.com/event/fri-11-november-2022/',\n",
       "  'FRI 11 NOVEMBER 2022'],\n",
       " ['https://culture-box.com/event/sat-12-november-2022/',\n",
       "  'SAT 12 NOVEMBER 2022'],\n",
       " ['https://culture-box.com/event/fri-18-november-2022/',\n",
       "  'FRI 18 NOVEMBER 2022']]"
      ]
     },
     "execution_count": 5,
     "metadata": {},
     "output_type": "execute_result"
    }
   ],
   "source": [
    "culture_box_info = []\n",
    "#Dates and Links to shows\n",
    "for x in range(0, len(links)):\n",
    "    test = []\n",
    "    test.append(links[x])\n",
    "    test.append(datelist[x])\n",
    "    culture_box_info.append(test)\n",
    "culture_box_info"
   ]
  },
  {
   "cell_type": "code",
   "execution_count": 6,
   "metadata": {},
   "outputs": [
    {
     "data": {
      "text/plain": [
       "['Sébastien Léger',\n",
       " 'Tim Andresen',\n",
       " 'Alvaro Suarez',\n",
       " 'Aja Gulris',\n",
       " 'Radeckt',\n",
       " 'Pelzman',\n",
       " 'Mella Dee',\n",
       " 'Kornum',\n",
       " 'Amanda Baun',\n",
       " 'Angebot',\n",
       " 'Disfunctional Disco',\n",
       " 'RØDHÅD',\n",
       " 'CTRLS',\n",
       " 'Tight Cherry',\n",
       " 'Carlo & Selma',\n",
       " 'Popmix',\n",
       " 'Joan Retamero',\n",
       " 'Tim Andresen',\n",
       " 'Gerssein',\n",
       " 'KDNC',\n",
       " 'Simon TG',\n",
       " 'Lazø',\n",
       " 'EMMA SØ',\n",
       " 'DJ FATi (aka RAMZi)',\n",
       " 'Crisco',\n",
       " 'Perko',\n",
       " 'Gina040',\n",
       " 'Deck Riders',\n",
       " 'Christian Craken',\n",
       " 'Thyregod',\n",
       " 'Neumann',\n",
       " 'JOHANNE',\n",
       " 'Thomas Lynge',\n",
       " 'Lowfek',\n",
       " 'Ejeca',\n",
       " 'Prom Night',\n",
       " 'Téa',\n",
       " 'Miss Puppy',\n",
       " 'Phloem',\n",
       " 'Savi DJ',\n",
       " 'Annett Gapstream',\n",
       " 'Mila Stern',\n",
       " 'Baime',\n",
       " 'Selderv',\n",
       " 'Kipp',\n",
       " 'GÆO',\n",
       " 'TMYL',\n",
       " 'Alexis Cabrera',\n",
       " 'Colo',\n",
       " 'Cebrero',\n",
       " 'Ana Lōg',\n",
       " 'Tim Andresen',\n",
       " 'Teison',\n",
       " 'Monika Fasula',\n",
       " 'DJ Seinfeld',\n",
       " 'Kawun',\n",
       " 'Roussakis',\n",
       " 'Rut Meyersson',\n",
       " 'Réa Réa',\n",
       " 'Cirkeline',\n",
       " 'Umloud',\n",
       " 'Aurora & Mane Maid',\n",
       " 'Bongo & Pusk',\n",
       " 'Jever & Murray',\n",
       " 'OPOSITION',\n",
       " 'Anna Logic',\n",
       " 'Jannik Sundø',\n",
       " 'JOSKI',\n",
       " 'Crothers',\n",
       " 'Onsberg',\n",
       " 'Alci',\n",
       " 'Ida Daugaard',\n",
       " 'Markovela',\n",
       " 'Christian Bonori',\n",
       " 'Bendtsen',\n",
       " 'Arya']"
      ]
     },
     "execution_count": 6,
     "metadata": {},
     "output_type": "execute_result"
    }
   ],
   "source": [
    "artists = []\n",
    "for x in testing.find_all('div',{'class': 'post-block__content text-formatting'}):\n",
    "    for a in x.find_all('a'):\n",
    "        artists.append(a.get_text())\n",
    "artists"
   ]
  },
  {
   "cell_type": "code",
   "execution_count": null,
   "metadata": {},
   "outputs": [],
   "source": []
  },
  {
   "cell_type": "code",
   "execution_count": null,
   "metadata": {},
   "outputs": [],
   "source": []
  }
 ],
 "metadata": {
  "kernelspec": {
   "display_name": "Python 3",
   "language": "python",
   "name": "python3"
  },
  "language_info": {
   "codemirror_mode": {
    "name": "ipython",
    "version": 3
   },
   "file_extension": ".py",
   "mimetype": "text/x-python",
   "name": "python",
   "nbconvert_exporter": "python",
   "pygments_lexer": "ipython3",
   "version": "3.7.6"
  }
 },
 "nbformat": 4,
 "nbformat_minor": 4
}
